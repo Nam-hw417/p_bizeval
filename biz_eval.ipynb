{
 "cells": [
  {
   "cell_type": "code",
   "execution_count": 6,
   "metadata": {},
   "outputs": [],
   "source": [
    "import pandas as pd\n",
    "import numpy as np\n",
    "import streamlit as st\n",
    "from scipy import stats\n",
    "from dateutil.relativedelta import relativedelta\n",
    "from PIL import Image\n",
    "from scipy.stats import wilcoxon\n",
    "\n",
    "# <데이터 불러오기>\n",
    "\n",
    "data = pd.read_csv('biz_data.csv', low_memory = False, dtype ={'사업시작월':str, '참가기업사업자번호':str})\n",
    "exp_df = pd.read_csv('expamt_data.csv', low_memory = False, dtype ={'BSNO':str})\n",
    "rec_df = pd.read_csv('biz_rec_30.csv', dtype ={'사업시작월':str, '참가기업사업자번호':str})"
   ]
  },
  {
   "cell_type": "code",
   "execution_count": 10,
   "metadata": {},
   "outputs": [],
   "source": [
    "# 월, 기간 입력 시 비교기간전 시작월, 마지막월 / 비교기간 후 시작월, 마지막월 도출함수\n",
    "\n",
    "def make_basis_months(mon, basis = 12):\n",
    "    mon_base = pd.to_datetime(mon+'01')\n",
    "    mon_delta = relativedelta(months = basis)\n",
    "   \n",
    "    # 사업참가전 시작 년, 월 반환\n",
    "    pre_str_mon = mon_base - mon_delta  \n",
    "    pre_str_year =  str(pre_str_mon.year)\n",
    "    pre_str_month  = pre_str_mon.month\n",
    "    if len(str(pre_str_month)) == 1:\n",
    "        pre_str_month = '0' + str(pre_str_month)\n",
    "    else:\n",
    "        pre_str_month = str(pre_str_month)\n",
    "    pre_str_mon =  pre_str_year + pre_str_month\n",
    "    \n",
    "    # 사업참가전 종료 년, 월 반환\n",
    "    pre_end_mon = mon_base - relativedelta(months=1)\n",
    "    pre_end_year = str(pre_end_mon.year)\n",
    "    pre_end_month =  pre_end_mon.month\n",
    "    if len(str(pre_end_month)) ==1:\n",
    "        pre_end_month = '0' + str(pre_end_month)\n",
    "    else:\n",
    "        pre_end_month = str(pre_end_month)    \n",
    "    pre_end_mon = pre_end_year + pre_end_month\n",
    "    \n",
    "     # 사업참가후 시작 년, 월 반환\n",
    "    post_str_mon = mon_base + relativedelta(months=1)  \n",
    "    post_str_year =  str(post_str_mon.year)\n",
    "    post_str_month =  post_str_mon.month\n",
    "    if len(str(post_str_month)) ==1:\n",
    "        post_str_month = '0' + str(post_str_month)\n",
    "    else:\n",
    "        post_str_month = str(post_str_month)\n",
    "    post_str_mon =  post_str_year + post_str_month\n",
    "    \n",
    "    # 사업참가후 시작 년, 월 반환\n",
    "    post_end_mon = mon_base + mon_delta  \n",
    "    post_end_year =  str(post_end_mon.year)\n",
    "    post_end_month =  post_end_mon.month\n",
    "    if len(str(post_end_month)) ==1:\n",
    "        post_end_month = '0' + str(post_end_month)\n",
    "    else:\n",
    "        post_end_month = str(post_end_month)\n",
    "    post_end_mon =  post_end_year + post_end_month\n",
    "    \n",
    "    \n",
    "    return pre_str_mon, pre_end_mon, post_str_mon, post_end_mon\n",
    "    "
   ]
  },
  {
   "cell_type": "code",
   "execution_count": 11,
   "metadata": {},
   "outputs": [],
   "source": [
    "# 사업실적 평가함수\n",
    "\n",
    "def eval_kotra_biz_re(biz_name, basis_month, period):\n",
    "    \n",
    "    pre_str_mon, pre_end_mon, post_str_mon, post_end_mon = make_basis_months(basis_month, period)\n",
    "    \n",
    "    idx = data[(data['사업명'] == biz_name) & (data['사업시작월'] == basis_month)]['참가기업사업자번호'].unique().tolist()\n",
    "    result_df = exp_df[exp_df['BSNO'].isin(idx)]\n",
    "    result_df.set_index('BSNO', inplace = True)\n",
    "    pre = result_df.loc[:,  pre_str_mon:pre_end_mon].mean(axis =1)\n",
    "    post = result_df.loc[:, post_str_mon:post_end_mon].mean(axis =1)\n",
    "    diff = post.mean() - pre.mean()\n",
    "    t, p_value = stats.ttest_rel(pre, post)\n",
    "    num_company = len(result_df)\n",
    "    \n",
    "    return num_company, pre_str_mon, pre_end_mon, pre.mean(), post_str_mon, post_end_mon, post.mean(), diff, p_value\n",
    "    \n",
    "    "
   ]
  },
  {
   "cell_type": "code",
   "execution_count": 55,
   "metadata": {},
   "outputs": [],
   "source": [
    "def eval_kotra_wilcoxon(biz_name, basis_month, period):\n",
    "    \n",
    "    pre_str_mon, pre_end_mon, post_str_mon, post_end_mon = make_basis_months(basis_month, period)\n",
    "    \n",
    "    idx = data[(data['사업명'] == biz_name) & (data['사업시작월'] == basis_month)]['참가기업사업자번호'].unique().tolist()\n",
    "    result_df = exp_df[exp_df['BSNO'].isin(idx)]\n",
    "    result_df.set_index('BSNO', inplace = True)\n",
    "    pre = result_df.loc[:,  pre_str_mon:pre_end_mon].mean(axis =1)\n",
    "    post = result_df.loc[:, post_str_mon:post_end_mon].mean(axis =1)\n",
    "    diff = post - pre\n",
    "    diff_amt = post.mean() - pre.mean()\n",
    "    s, p_value = stats.wilcoxon(diff, alternative = 'greater')\n",
    "    num_company = len(result_df)\n",
    "    \n",
    "    print(\"사업명: {}, 사업시작월: {}\".format(biz_name, basis_month))\n",
    "    print('사업참가기업수: {} 개사'.format(len(result_df)))\n",
    "    print()\n",
    "    print('사업참가 전 12개월 기업별 월평균수출금액의 평균: $ {:.2f}'.format(pre.mean()))\n",
    "    print('사업참가 후 12개월 기업별 월평균수출금액의 평균: $ {:.2f}'.format(post.mean())) \n",
    "    print('사업참가 전후 월평균수출금액차이: $ {:.2f}'.format(diff_amt))\n",
    "    print()\n",
    "      \n",
    "    w, p_value = stats.wilcoxon(diff, alternative = 'greater')\n",
    "    \n",
    "    print('해당사업의 Wilcoxon 순위합 검정의 p-value: {:.4f}'.format(p_value))\n",
    "    \n",
    "    if p_value <= 0.05:\n",
    "        print('해당사업은 통계적으로 유효성이 입증됩니다.')\n",
    "        print()\n",
    "        print('{} 에 시작한 {} 의 1년간 총효과는 $ {:.0f} 로 추정됩니다.'.format(basis_month, biz_name, diff_amt*12*447))\n",
    "    else:\n",
    "        print('해당사업은 통계적으로 유효성이 입증되지 않습니다.')\n",
    "    \n",
    "    "
   ]
  },
  {
   "cell_type": "code",
   "execution_count": 62,
   "metadata": {},
   "outputs": [],
   "source": [
    "# 사업 샘플데이터 보여주는 함수\n",
    "\n",
    "def show_biz_sample(biz_name):\n",
    "    df = rec_df[rec_df['사업명'].str.contains(biz_name)]\n",
    "    df = df[df['사업시작월'].str.contains('2019|2020|2021|2022')]\n",
    "    df = df[['사업명', '사업시작월']].reset_index().drop('index', axis = 1)\n",
    "    # if len(df) > 7:\n",
    "    #    df = df.head(7)\n",
    "    return df "
   ]
  },
  {
   "cell_type": "code",
   "execution_count": 23,
   "metadata": {},
   "outputs": [
    {
     "data": {
      "text/html": [
       "<div>\n",
       "<style scoped>\n",
       "    .dataframe tbody tr th:only-of-type {\n",
       "        vertical-align: middle;\n",
       "    }\n",
       "\n",
       "    .dataframe tbody tr th {\n",
       "        vertical-align: top;\n",
       "    }\n",
       "\n",
       "    .dataframe thead th {\n",
       "        text-align: right;\n",
       "    }\n",
       "</style>\n",
       "<table border=\"1\" class=\"dataframe\">\n",
       "  <thead>\n",
       "    <tr style=\"text-align: right;\">\n",
       "      <th></th>\n",
       "      <th>사업구분</th>\n",
       "      <th>사업명</th>\n",
       "      <th>사업시작월</th>\n",
       "      <th>참가기업사업자번호</th>\n",
       "    </tr>\n",
       "  </thead>\n",
       "  <tbody>\n",
       "    <tr>\n",
       "      <th>0</th>\n",
       "      <td>수출상담회</td>\n",
       "      <td>2022 바이코리아센터 상시 화상상담회(연중)</td>\n",
       "      <td>202201</td>\n",
       "      <td>7187</td>\n",
       "    </tr>\n",
       "    <tr>\n",
       "      <th>1</th>\n",
       "      <td>신규수출기업화</td>\n",
       "      <td>신규수출화사업</td>\n",
       "      <td>202101</td>\n",
       "      <td>5606</td>\n",
       "    </tr>\n",
       "    <tr>\n",
       "      <th>2</th>\n",
       "      <td>기타사업</td>\n",
       "      <td>2021 중국 서북부지역 내륙 미개척시장 진출 지원사업</td>\n",
       "      <td>202103</td>\n",
       "      <td>5026</td>\n",
       "    </tr>\n",
       "    <tr>\n",
       "      <th>3</th>\n",
       "      <td>신규수출기업화</td>\n",
       "      <td>신규 수출기업화 사업</td>\n",
       "      <td>202201</td>\n",
       "      <td>4935</td>\n",
       "    </tr>\n",
       "    <tr>\n",
       "      <th>4</th>\n",
       "      <td>전시회</td>\n",
       "      <td>2020년도 KOTRA 해외전시회 개별참가 지원사업</td>\n",
       "      <td>202001</td>\n",
       "      <td>3018</td>\n",
       "    </tr>\n",
       "  </tbody>\n",
       "</table>\n",
       "</div>"
      ],
      "text/plain": [
       "      사업구분                             사업명   사업시작월 참가기업사업자번호\n",
       "0    수출상담회       2022 바이코리아센터 상시 화상상담회(연중)  202201      7187\n",
       "1  신규수출기업화                         신규수출화사업  202101      5606\n",
       "2     기타사업  2021 중국 서북부지역 내륙 미개척시장 진출 지원사업  202103      5026\n",
       "3  신규수출기업화                     신규 수출기업화 사업  202201      4935\n",
       "4      전시회   2020년도 KOTRA 해외전시회 개별참가 지원사업   202001      3018"
      ]
     },
     "execution_count": 23,
     "metadata": {},
     "output_type": "execute_result"
    }
   ],
   "source": [
    "rec_df.head()"
   ]
  },
  {
   "cell_type": "code",
   "execution_count": null,
   "metadata": {},
   "outputs": [],
   "source": []
  },
  {
   "cell_type": "code",
   "execution_count": 61,
   "metadata": {},
   "outputs": [
    {
     "data": {
      "text/html": [
       "<div>\n",
       "<style scoped>\n",
       "    .dataframe tbody tr th:only-of-type {\n",
       "        vertical-align: middle;\n",
       "    }\n",
       "\n",
       "    .dataframe tbody tr th {\n",
       "        vertical-align: top;\n",
       "    }\n",
       "\n",
       "    .dataframe thead th {\n",
       "        text-align: right;\n",
       "    }\n",
       "</style>\n",
       "<table border=\"1\" class=\"dataframe\">\n",
       "  <thead>\n",
       "    <tr style=\"text-align: right;\">\n",
       "      <th></th>\n",
       "      <th>사업명</th>\n",
       "      <th>사업시작월</th>\n",
       "    </tr>\n",
       "  </thead>\n",
       "  <tbody>\n",
       "    <tr>\n",
       "      <th>0</th>\n",
       "      <td>2022 바이코리아센터 상시 화상상담회(연중)</td>\n",
       "      <td>202201</td>\n",
       "    </tr>\n",
       "    <tr>\n",
       "      <th>1</th>\n",
       "      <td>중국 코로나19 재확산 대응 연중 화상상담 사업</td>\n",
       "      <td>202201</td>\n",
       "    </tr>\n",
       "    <tr>\n",
       "      <th>2</th>\n",
       "      <td>중국 코로나19 재확산 대응 연중 화상상담 사업(하얼빈)</td>\n",
       "      <td>202201</td>\n",
       "    </tr>\n",
       "    <tr>\n",
       "      <th>3</th>\n",
       "      <td>중국 코로나19 재확산 대응 연중 화상상담 사업(베이징)</td>\n",
       "      <td>202201</td>\n",
       "    </tr>\n",
       "    <tr>\n",
       "      <th>4</th>\n",
       "      <td>중국 코로나19 재확산 대응 연중 화상상담 사업(상하이)</td>\n",
       "      <td>202201</td>\n",
       "    </tr>\n",
       "    <tr>\n",
       "      <th>5</th>\n",
       "      <td>중국 코로나19 재확산 대응 연중 화상상담 사업(광저우)</td>\n",
       "      <td>202201</td>\n",
       "    </tr>\n",
       "    <tr>\n",
       "      <th>6</th>\n",
       "      <td>중국 코로나19 재확산 대응 연중 화상상담 사업(충칭)</td>\n",
       "      <td>202201</td>\n",
       "    </tr>\n",
       "    <tr>\n",
       "      <th>7</th>\n",
       "      <td>중국 코로나19 재확산 대응 연중 화상상담 사업(선전)</td>\n",
       "      <td>202201</td>\n",
       "    </tr>\n",
       "    <tr>\n",
       "      <th>8</th>\n",
       "      <td>중국 코로나19 재확산 대응 연중 화상상담 사업(샤먼)</td>\n",
       "      <td>202201</td>\n",
       "    </tr>\n",
       "  </tbody>\n",
       "</table>\n",
       "</div>"
      ],
      "text/plain": [
       "                               사업명   사업시작월\n",
       "0        2022 바이코리아센터 상시 화상상담회(연중)  202201\n",
       "1       중국 코로나19 재확산 대응 연중 화상상담 사업  202201\n",
       "2  중국 코로나19 재확산 대응 연중 화상상담 사업(하얼빈)  202201\n",
       "3  중국 코로나19 재확산 대응 연중 화상상담 사업(베이징)  202201\n",
       "4  중국 코로나19 재확산 대응 연중 화상상담 사업(상하이)  202201\n",
       "5  중국 코로나19 재확산 대응 연중 화상상담 사업(광저우)  202201\n",
       "6   중국 코로나19 재확산 대응 연중 화상상담 사업(충칭)  202201\n",
       "7   중국 코로나19 재확산 대응 연중 화상상담 사업(선전)  202201\n",
       "8   중국 코로나19 재확산 대응 연중 화상상담 사업(샤먼)  202201"
      ]
     },
     "execution_count": 61,
     "metadata": {},
     "output_type": "execute_result"
    }
   ],
   "source": [
    "show_biz_sample('연중')"
   ]
  },
  {
   "cell_type": "code",
   "execution_count": 56,
   "metadata": {},
   "outputs": [
    {
     "name": "stdout",
     "output_type": "stream",
     "text": [
      "사업명: [유통중점][실리콘밸리]2021 해외유통망 협력사업, 사업시작월: 202102\n",
      "사업참가기업수: 97 개사\n",
      "\n",
      "사업참가 전 12개월 기업별 월평균수출금액의 평균: $ 10485.93\n",
      "사업참가 후 12개월 기업별 월평균수출금액의 평균: $ 18280.54\n",
      "사업참가 전후 월평균수출금액차이: $ 7794.61\n",
      "\n",
      "해당사업의 Wilcoxon 순위합 검정의 p-value: 0.0000\n",
      "해당사업은 통계적으로 유효성이 입증됩니다.\n",
      "\n",
      "202102 에 시작한 [유통중점][실리콘밸리]2021 해외유통망 협력사업 의 1년간 총효과는 $ 41810306 로 추정됩니다.\n"
     ]
    }
   ],
   "source": [
    "eval_kotra_wilcoxon('[유통중점][실리콘밸리]2021 해외유통망 협력사업', '202102', 12)"
   ]
  },
  {
   "cell_type": "code",
   "execution_count": 58,
   "metadata": {},
   "outputs": [
    {
     "name": "stdout",
     "output_type": "stream",
     "text": [
      "사업명: 북미 온라인 한국우수상품전(실리콘밸리), 사업시작월: 202009\n",
      "사업참가기업수: 33 개사\n",
      "\n",
      "사업참가 전 12개월 기업별 월평균수출금액의 평균: $ 139688.34\n",
      "사업참가 후 12개월 기업별 월평균수출금액의 평균: $ 480597.44\n",
      "사업참가 전후 월평균수출금액차이: $ 340909.10\n",
      "\n",
      "해당사업의 Wilcoxon 순위합 검정의 p-value: 0.0099\n",
      "해당사업은 통계적으로 유효성이 입증됩니다.\n",
      "\n",
      "202009 에 시작한 북미 온라인 한국우수상품전(실리콘밸리) 의 1년간 총효과는 $ 1828636431 로 추정됩니다.\n"
     ]
    }
   ],
   "source": [
    "eval_kotra_wilcoxon('북미 온라인 한국우수상품전(실리콘밸리)', '202009', 12)"
   ]
  },
  {
   "cell_type": "code",
   "execution_count": null,
   "metadata": {},
   "outputs": [],
   "source": []
  },
  {
   "cell_type": "code",
   "execution_count": null,
   "metadata": {},
   "outputs": [],
   "source": []
  },
  {
   "cell_type": "code",
   "execution_count": 14,
   "metadata": {},
   "outputs": [
    {
     "data": {
      "text/plain": [
       "(735,\n",
       " '201708',\n",
       " '201807',\n",
       " 590356.1352607709,\n",
       " '201809',\n",
       " '201908',\n",
       " 607567.3173469388,\n",
       " 17211.182086167857,\n",
       " 0.23174981102270914)"
      ]
     },
     "execution_count": 14,
     "metadata": {},
     "output_type": "execute_result"
    }
   ],
   "source": [
    "eval_kotra_biz_re('지사화사업', '201808', 12)"
   ]
  },
  {
   "cell_type": "code",
   "execution_count": null,
   "metadata": {},
   "outputs": [],
   "source": []
  },
  {
   "cell_type": "code",
   "execution_count": 32,
   "metadata": {},
   "outputs": [],
   "source": [
    "# 사전값, 사후값 분포를 보기 위한 방법\n",
    "\n",
    "def check_distribute(biz_name, basis_month, period):\n",
    "    \n",
    "    pre_str_mon, pre_end_mon, post_str_mon, post_end_mon = make_basis_months(basis_month, period)\n",
    "    \n",
    "    idx = data[(data['사업명'] == biz_name) & (data['사업시작월'] == basis_month)]['참가기업사업자번호'].unique().tolist()\n",
    "    result_df = exp_df[exp_df['BSNO'].isin(idx)]\n",
    "    result_df.set_index('BSNO', inplace = True)\n",
    "    pre = result_df.loc[:,  pre_str_mon:pre_end_mon].mean(axis =1)\n",
    "    post = result_df.loc[:, post_str_mon:post_end_mon].mean(axis =1)\n",
    "    value = post - pre\n",
    "    return value\n",
    "    "
   ]
  },
  {
   "cell_type": "code",
   "execution_count": 35,
   "metadata": {},
   "outputs": [],
   "source": [
    "diff = check_distribute('지사화사업', '201808', 12)"
   ]
  },
  {
   "cell_type": "code",
   "execution_count": 63,
   "metadata": {},
   "outputs": [
    {
     "data": {
      "text/plain": [
       "BSNO\n",
       "1018151010   -22913.583333\n",
       "1018670725     2518.500000\n",
       "1028207208        0.000000\n",
       "1048157634   -96535.666667\n",
       "1051621505        0.000000\n",
       "                  ...     \n",
       "8398700374    93639.166667\n",
       "8428700462    -3000.000000\n",
       "8448700978        0.000000\n",
       "8938600425      130.000000\n",
       "8958100881     2159.666667\n",
       "Length: 735, dtype: float64"
      ]
     },
     "execution_count": 63,
     "metadata": {},
     "output_type": "execute_result"
    }
   ],
   "source": [
    "diff"
   ]
  },
  {
   "cell_type": "code",
   "execution_count": 65,
   "metadata": {},
   "outputs": [],
   "source": [
    "from scipy.stats import shapiro"
   ]
  },
  {
   "cell_type": "code",
   "execution_count": 41,
   "metadata": {},
   "outputs": [
    {
     "data": {
      "text/plain": [
       "WilcoxonResult(statistic=141386.5, pvalue=0.0021976975573224436)"
      ]
     },
     "execution_count": 41,
     "metadata": {},
     "output_type": "execute_result"
    }
   ],
   "source": [
    "s, p_value = wilcoxon(diff, alternative = 'greater')"
   ]
  },
  {
   "cell_type": "code",
   "execution_count": 67,
   "metadata": {},
   "outputs": [
    {
     "data": {
      "text/plain": [
       "ShapiroResult(statistic=0.36520713567733765, pvalue=1.2611686178923354e-44)"
      ]
     },
     "execution_count": 67,
     "metadata": {},
     "output_type": "execute_result"
    }
   ],
   "source": [
    "shapiro(diff)  # 정규성 검정을 충족하지 못함.."
   ]
  },
  {
   "cell_type": "code",
   "execution_count": 71,
   "metadata": {},
   "outputs": [],
   "source": [
    "import matplotlib.pyplot as plt"
   ]
  },
  {
   "cell_type": "code",
   "execution_count": 73,
   "metadata": {},
   "outputs": [
    {
     "data": {
      "text/plain": [
       "(array([ 27.,   3.,   8.,  23.,  56.,  62., 119.,  86.,  32.,   5.]),\n",
       " array([ 0.        ,  1.57487328,  3.14974655,  4.72461983,  6.2994931 ,\n",
       "         7.87436638,  9.44923965, 11.02411293, 12.59898621, 14.17385948,\n",
       "        15.74873276]),\n",
       " <BarContainer object of 10 artists>)"
      ]
     },
     "execution_count": 73,
     "metadata": {},
     "output_type": "execute_result"
    },
    {
     "data": {
      "image/png": "[encoded data removed]",
      "text/plain": [
       "<Figure size 432x288 with 1 Axes>"
      ]
     },
     "metadata": {
      "needs_background": "light"
     },
     "output_type": "display_data"
    }
   ],
   "source": [
    "plt.hist(np.log1p(diff))"
   ]
  },
  {
   "cell_type": "code",
   "execution_count": 86,
   "metadata": {},
   "outputs": [
    {
     "data": {
      "text/plain": [
       "ShapiroResult(statistic=0.891350507736206, pvalue=1.0659495389144603e-16)"
      ]
     },
     "execution_count": 86,
     "metadata": {},
     "output_type": "execute_result"
    }
   ],
   "source": [
    "shapiro(np.log1p(diff).reset_index()[np.log1p(diff).reset_index()[0].notnull()][0])\n",
    "\n",
    "# NAN을 제거 하려면??\n",
    "\n"
   ]
  },
  {
   "cell_type": "code",
   "execution_count": 74,
   "metadata": {},
   "outputs": [
    {
     "data": {
      "text/plain": [
       "ShapiroResult(statistic=nan, pvalue=1.0)"
      ]
     },
     "execution_count": 74,
     "metadata": {},
     "output_type": "execute_result"
    }
   ],
   "source": [
    "shapiro(np.log1p(diff)) # 로그변환하더라도 diff 가 정규분포를 따른다고 볼 수 없음.."
   ]
  },
  {
   "cell_type": "code",
   "execution_count": 39,
   "metadata": {},
   "outputs": [
    {
     "data": {
      "text/plain": [
       "\u001b[0;31mSignature:\u001b[0m\n",
       "\u001b[0mwilcoxon\u001b[0m\u001b[0;34m(\u001b[0m\u001b[0;34m\u001b[0m\n",
       "\u001b[0;34m\u001b[0m    \u001b[0mx\u001b[0m\u001b[0;34m,\u001b[0m\u001b[0;34m\u001b[0m\n",
       "\u001b[0;34m\u001b[0m    \u001b[0my\u001b[0m\u001b[0;34m=\u001b[0m\u001b[0;32mNone\u001b[0m\u001b[0;34m,\u001b[0m\u001b[0;34m\u001b[0m\n",
       "\u001b[0;34m\u001b[0m    \u001b[0mzero_method\u001b[0m\u001b[0;34m=\u001b[0m\u001b[0;34m'wilcox'\u001b[0m\u001b[0;34m,\u001b[0m\u001b[0;34m\u001b[0m\n",
       "\u001b[0;34m\u001b[0m    \u001b[0mcorrection\u001b[0m\u001b[0;34m=\u001b[0m\u001b[0;32mFalse\u001b[0m\u001b[0;34m,\u001b[0m\u001b[0;34m\u001b[0m\n",
       "\u001b[0;34m\u001b[0m    \u001b[0malternative\u001b[0m\u001b[0;34m=\u001b[0m\u001b[0;34m'two-sided'\u001b[0m\u001b[0;34m,\u001b[0m\u001b[0;34m\u001b[0m\n",
       "\u001b[0;34m\u001b[0m    \u001b[0mmode\u001b[0m\u001b[0;34m=\u001b[0m\u001b[0;34m'auto'\u001b[0m\u001b[0;34m,\u001b[0m\u001b[0;34m\u001b[0m\n",
       "\u001b[0;34m\u001b[0m\u001b[0;34m)\u001b[0m\u001b[0;34m\u001b[0m\u001b[0;34m\u001b[0m\u001b[0m\n",
       "\u001b[0;31mDocstring:\u001b[0m\n",
       "Calculate the Wilcoxon signed-rank test.\n",
       "\n",
       "The Wilcoxon signed-rank test tests the null hypothesis that two\n",
       "related paired samples come from the same distribution. In particular,\n",
       "it tests whether the distribution of the differences x - y is symmetric\n",
       "about zero. It is a non-parametric version of the paired T-test.\n",
       "\n",
       "Parameters\n",
       "----------\n",
       "x : array_like\n",
       "    Either the first set of measurements (in which case `y` is the second\n",
       "    set of measurements), or the differences between two sets of\n",
       "    measurements (in which case `y` is not to be specified.)  Must be\n",
       "    one-dimensional.\n",
       "y : array_like, optional\n",
       "    Either the second set of measurements (if `x` is the first set of\n",
       "    measurements), or not specified (if `x` is the differences between\n",
       "    two sets of measurements.)  Must be one-dimensional.\n",
       "zero_method : {'pratt', 'wilcox', 'zsplit'}, optional\n",
       "    The following options are available (default is 'wilcox'):\n",
       " \n",
       "      * 'pratt': Includes zero-differences in the ranking process,\n",
       "        but drops the ranks of the zeros, see [4]_, (more conservative).\n",
       "      * 'wilcox': Discards all zero-differences, the default.\n",
       "      * 'zsplit': Includes zero-differences in the ranking process and \n",
       "        split the zero rank between positive and negative ones.\n",
       "correction : bool, optional\n",
       "    If True, apply continuity correction by adjusting the Wilcoxon rank\n",
       "    statistic by 0.5 towards the mean value when computing the\n",
       "    z-statistic if a normal approximation is used.  Default is False.\n",
       "alternative : {\"two-sided\", \"greater\", \"less\"}, optional\n",
       "    The alternative hypothesis to be tested, see Notes. Default is\n",
       "    \"two-sided\".\n",
       "mode : {\"auto\", \"exact\", \"approx\"}\n",
       "    Method to calculate the p-value, see Notes. Default is \"auto\".\n",
       "\n",
       "Returns\n",
       "-------\n",
       "statistic : float\n",
       "    If `alternative` is \"two-sided\", the sum of the ranks of the\n",
       "    differences above or below zero, whichever is smaller.\n",
       "    Otherwise the sum of the ranks of the differences above zero.\n",
       "pvalue : float\n",
       "    The p-value for the test depending on `alternative` and `mode`.\n",
       "\n",
       "See Also\n",
       "--------\n",
       "kruskal, mannwhitneyu\n",
       "\n",
       "Notes\n",
       "-----\n",
       "The test has been introduced in [4]_. Given n independent samples\n",
       "(xi, yi) from a bivariate distribution (i.e. paired samples),\n",
       "it computes the differences di = xi - yi. One assumption of the test\n",
       "is that the differences are symmetric, see [2]_.\n",
       "The two-sided test has the null hypothesis that the median of the\n",
       "differences is zero against the alternative that it is different from\n",
       "zero. The one-sided test has the null hypothesis that the median is \n",
       "positive against the alternative that it is negative \n",
       "(``alternative == 'less'``), or vice versa (``alternative == 'greater.'``).\n",
       "\n",
       "To derive the p-value, the exact distribution (``mode == 'exact'``)\n",
       "can be used for sample sizes of up to 25. The default ``mode == 'auto'``\n",
       "uses the exact distribution if there are at most 25 observations and no\n",
       "ties, otherwise a normal approximation is used (``mode == 'approx'``).\n",
       "\n",
       "The treatment of ties can be controlled by the parameter `zero_method`.\n",
       "If ``zero_method == 'pratt'``, the normal approximation is adjusted as in\n",
       "[5]_. A typical rule is to require that n > 20 ([2]_, p. 383).\n",
       "\n",
       "References\n",
       "----------\n",
       ".. [1] https://en.wikipedia.org/wiki/Wilcoxon_signed-rank_test\n",
       ".. [2] Conover, W.J., Practical Nonparametric Statistics, 1971.\n",
       ".. [3] Pratt, J.W., Remarks on Zeros and Ties in the Wilcoxon Signed\n",
       "   Rank Procedures, Journal of the American Statistical Association,\n",
       "   Vol. 54, 1959, pp. 655-667. :doi:`10.1080/01621459.1959.10501526`\n",
       ".. [4] Wilcoxon, F., Individual Comparisons by Ranking Methods,\n",
       "   Biometrics Bulletin, Vol. 1, 1945, pp. 80-83. :doi:`10.2307/3001968`\n",
       ".. [5] Cureton, E.E., The Normal Approximation to the Signed-Rank\n",
       "   Sampling Distribution When Zero Differences are Present,\n",
       "   Journal of the American Statistical Association, Vol. 62, 1967,\n",
       "   pp. 1068-1069. :doi:`10.1080/01621459.1967.10500917`\n",
       "\n",
       "Examples\n",
       "--------\n",
       "In [4]_, the differences in height between cross- and self-fertilized\n",
       "corn plants is given as follows:\n",
       "\n",
       ">>> d = [6, 8, 14, 16, 23, 24, 28, 29, 41, -48, 49, 56, 60, -67, 75]\n",
       "\n",
       "Cross-fertilized plants appear to be be higher. To test the null\n",
       "hypothesis that there is no height difference, we can apply the\n",
       "two-sided test:\n",
       "\n",
       ">>> from scipy.stats import wilcoxon\n",
       ">>> w, p = wilcoxon(d)\n",
       ">>> w, p\n",
       "(24.0, 0.041259765625)\n",
       "\n",
       "Hence, we would reject the null hypothesis at a confidence level of 5%,\n",
       "concluding that there is a difference in height between the groups.\n",
       "To confirm that the median of the differences can be assumed to be\n",
       "positive, we use:\n",
       "\n",
       ">>> w, p = wilcoxon(d, alternative='greater')\n",
       ">>> w, p\n",
       "(96.0, 0.0206298828125)\n",
       "\n",
       "This shows that the null hypothesis that the median is negative can be\n",
       "rejected at a confidence level of 5% in favor of the alternative that\n",
       "the median is greater than zero. The p-values above are exact. Using the\n",
       "normal approximation gives very similar values:\n",
       "\n",
       ">>> w, p = wilcoxon(d, mode='approx')\n",
       ">>> w, p\n",
       "(24.0, 0.04088813291185591)\n",
       "\n",
       "Note that the statistic changed to 96 in the one-sided case (the sum\n",
       "of ranks of positive differences) whereas it is 24 in the two-sided\n",
       "case (the minimum of sum of ranks above and below zero).\n",
       "\u001b[0;31mFile:\u001b[0m      /usr/local/lib64/python3.6/site-packages/scipy/stats/morestats.py\n",
       "\u001b[0;31mType:\u001b[0m      function\n"
      ]
     },
     "metadata": {},
     "output_type": "display_data"
    }
   ],
   "source": [
    "?wilcoxon"
   ]
  },
  {
   "cell_type": "code",
   "execution_count": null,
   "metadata": {},
   "outputs": [],
   "source": []
  }
 ],
 "metadata": {
  "kernelspec": {
   "display_name": "Python 3",
   "language": "python",
   "name": "python3"
  },
  "language_info": {
   "codemirror_mode": {
    "name": "ipython",
    "version": 3
   },
   "file_extension": ".py",
   "mimetype": "text/x-python",
   "name": "python",
   "nbconvert_exporter": "python",
   "pygments_lexer": "ipython3",
   "version": "3.6.8"
  }
 },
 "nbformat": 4,
 "nbformat_minor": 4
}
